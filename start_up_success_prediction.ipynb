{
  "cells": [
    {
      "cell_type": "markdown",
      "metadata": {
        "id": "view-in-github",
        "colab_type": "text"
      },
      "source": [
        "<a href=\"https://colab.research.google.com/github/Mahtab14H/BDDA-all/blob/main/start_up_success_prediction.ipynb\" target=\"_parent\"><img src=\"https://colab.research.google.com/assets/colab-badge.svg\" alt=\"Open In Colab\"/></a>"
      ]
    },
    {
      "cell_type": "code",
      "execution_count": 1,
      "id": "cdf5b8e8",
      "metadata": {
        "_cell_guid": "b1076dfc-b9ad-4769-8c92-a6c4dae69d19",
        "_uuid": "8f2839f25d086af736a60e9eeb907d3b93b6e0e5",
        "execution": {
          "iopub.execute_input": "2022-02-28T21:25:45.236752Z",
          "iopub.status.busy": "2022-02-28T21:25:45.235489Z",
          "iopub.status.idle": "2022-02-28T21:25:45.255727Z",
          "shell.execute_reply": "2022-02-28T21:25:45.254849Z",
          "shell.execute_reply.started": "2022-02-28T21:24:49.252714Z"
        },
        "papermill": {
          "duration": 0.071666,
          "end_time": "2022-02-28T21:25:45.255921",
          "exception": false,
          "start_time": "2022-02-28T21:25:45.184255",
          "status": "completed"
        },
        "tags": [],
        "id": "cdf5b8e8"
      },
      "outputs": [],
      "source": [
        "# This Python 3 environment comes with many helpful analytics libraries installed\n",
        "# It is defined by the kaggle/python Docker image: https://github.com/kaggle/docker-python\n",
        "# For example, here's several helpful packages to load\n",
        "\n",
        "import numpy as np # linear algebra\n",
        "import pandas as pd # data processing, CSV file I/O (e.g. pd.read_csv)\n",
        "\n",
        "# Input data files are available in the read-only \"../input/\" directory\n",
        "# For example, running this (by clicking run or pressing Shift+Enter) will list all files under the input directory\n",
        "\n",
        "import os\n",
        "for dirname, _, filenames in os.walk('/kaggle/input'):\n",
        "    for filename in filenames:\n",
        "        print(os.path.join(dirname, filename))\n",
        "\n",
        "# You can write up to 20GB to the current directory (/kaggle/working/) that gets preserved as output when you create a version using \"Save & Run All\"\n",
        "# You can also write temporary files to /kaggle/temp/, but they won't be saved outside of the current session"
      ]
    },
    {
      "cell_type": "markdown",
      "id": "9c104f5f",
      "metadata": {
        "papermill": {
          "duration": 0.044626,
          "end_time": "2022-02-28T21:25:45.347221",
          "exception": false,
          "start_time": "2022-02-28T21:25:45.302595",
          "status": "completed"
        },
        "tags": [],
        "id": "9c104f5f"
      },
      "source": [
        "Importing Useful libraries"
      ]
    },
    {
      "cell_type": "markdown",
      "id": "150a9681",
      "metadata": {
        "papermill": {
          "duration": 0.045056,
          "end_time": "2022-02-28T21:25:45.439503",
          "exception": false,
          "start_time": "2022-02-28T21:25:45.394447",
          "status": "completed"
        },
        "tags": [],
        "id": "150a9681"
      },
      "source": [
        "import pandas as pd\n",
        "import numpy as np\n",
        "import matplotlib.pyplot as plt\n",
        "from warnings import simplefilter\n",
        "simplefilter(\"ignore\")"
      ]
    },
    {
      "cell_type": "code",
      "execution_count": 2,
      "id": "fdbb9201",
      "metadata": {
        "execution": {
          "iopub.execute_input": "2022-02-28T21:25:45.535411Z",
          "iopub.status.busy": "2022-02-28T21:25:45.533271Z",
          "iopub.status.idle": "2022-02-28T21:25:45.537673Z",
          "shell.execute_reply": "2022-02-28T21:25:45.538279Z",
          "shell.execute_reply.started": "2022-02-28T21:24:49.267282Z"
        },
        "papermill": {
          "duration": 0.053581,
          "end_time": "2022-02-28T21:25:45.538489",
          "exception": false,
          "start_time": "2022-02-28T21:25:45.484908",
          "status": "completed"
        },
        "tags": [],
        "id": "fdbb9201"
      },
      "outputs": [],
      "source": [
        "# import pandas as pd\n",
        "# import numpy as np\n",
        "import matplotlib.pyplot as plt\n",
        "from warnings import simplefilter\n",
        "simplefilter(\"ignore\")"
      ]
    },
    {
      "cell_type": "code",
      "execution_count": 5,
      "id": "d9c501db",
      "metadata": {
        "execution": {
          "iopub.execute_input": "2022-02-28T21:25:45.646960Z",
          "iopub.status.busy": "2022-02-28T21:25:45.645915Z",
          "iopub.status.idle": "2022-02-28T21:25:45.713523Z",
          "shell.execute_reply": "2022-02-28T21:25:45.712814Z",
          "shell.execute_reply.started": "2022-02-28T21:24:49.277468Z"
        },
        "papermill": {
          "duration": 0.122884,
          "end_time": "2022-02-28T21:25:45.713710",
          "exception": false,
          "start_time": "2022-02-28T21:25:45.590826",
          "status": "completed"
        },
        "tags": [],
        "colab": {
          "base_uri": "https://localhost:8080/"
        },
        "id": "d9c501db",
        "outputId": "3cf72ed6-c110-468a-b704-9642614159e6"
      },
      "outputs": [
        {
          "output_type": "execute_result",
          "data": {
            "text/plain": [
              "['Unnamed: 0',\n",
              " 'state_code',\n",
              " 'latitude',\n",
              " 'longitude',\n",
              " 'zip_code',\n",
              " 'id',\n",
              " 'city',\n",
              " 'Unnamed: 6',\n",
              " 'name',\n",
              " 'labels',\n",
              " 'founded_at',\n",
              " 'closed_at',\n",
              " 'first_funding_at',\n",
              " 'last_funding_at',\n",
              " 'age_first_funding_year',\n",
              " 'age_last_funding_year',\n",
              " 'age_first_milestone_year',\n",
              " 'age_last_milestone_year',\n",
              " 'relationships',\n",
              " 'funding_rounds',\n",
              " 'funding_total_usd',\n",
              " 'milestones',\n",
              " 'state_code.1',\n",
              " 'is_CA',\n",
              " 'is_NY',\n",
              " 'is_MA',\n",
              " 'is_TX',\n",
              " 'is_otherstate',\n",
              " 'category_code',\n",
              " 'is_software',\n",
              " 'is_web',\n",
              " 'is_mobile',\n",
              " 'is_enterprise',\n",
              " 'is_advertising',\n",
              " 'is_gamesvideo',\n",
              " 'is_ecommerce',\n",
              " 'is_biotech',\n",
              " 'is_consulting',\n",
              " 'is_othercategory',\n",
              " 'object_id',\n",
              " 'has_VC',\n",
              " 'has_angel',\n",
              " 'has_roundA',\n",
              " 'has_roundB',\n",
              " 'has_roundC',\n",
              " 'has_roundD',\n",
              " 'avg_participants',\n",
              " 'is_top500',\n",
              " 'status']"
            ]
          },
          "metadata": {},
          "execution_count": 5
        }
      ],
      "source": [
        "df = pd.read_csv(\"https://raw.githubusercontent.com/Mahtab14H/BDDA-all/main/startup%20data.csv\")\n",
        "df.head()\n",
        "df.columns.values.tolist()"
      ]
    },
    {
      "cell_type": "code",
      "execution_count": 6,
      "id": "c33fa722",
      "metadata": {
        "execution": {
          "iopub.execute_input": "2022-02-28T21:25:45.832306Z",
          "iopub.status.busy": "2022-02-28T21:25:45.824628Z",
          "iopub.status.idle": "2022-02-28T21:25:45.851301Z",
          "shell.execute_reply": "2022-02-28T21:25:45.850080Z",
          "shell.execute_reply.started": "2022-02-28T21:24:49.324660Z"
        },
        "papermill": {
          "duration": 0.087767,
          "end_time": "2022-02-28T21:25:45.851549",
          "exception": false,
          "start_time": "2022-02-28T21:25:45.763782",
          "status": "completed"
        },
        "tags": [],
        "colab": {
          "base_uri": "https://localhost:8080/"
        },
        "id": "c33fa722",
        "outputId": "f3f1dac3-f6ae-4e6a-82f4-616aa48c7fd8"
      },
      "outputs": [
        {
          "output_type": "stream",
          "name": "stdout",
          "text": [
            "<class 'pandas.core.frame.DataFrame'>\n",
            "RangeIndex: 923 entries, 0 to 922\n",
            "Data columns (total 49 columns):\n",
            " #   Column                    Non-Null Count  Dtype  \n",
            "---  ------                    --------------  -----  \n",
            " 0   Unnamed: 0                923 non-null    int64  \n",
            " 1   state_code                923 non-null    object \n",
            " 2   latitude                  923 non-null    float64\n",
            " 3   longitude                 923 non-null    float64\n",
            " 4   zip_code                  923 non-null    object \n",
            " 5   id                        923 non-null    object \n",
            " 6   city                      923 non-null    object \n",
            " 7   Unnamed: 6                430 non-null    object \n",
            " 8   name                      923 non-null    object \n",
            " 9   labels                    923 non-null    int64  \n",
            " 10  founded_at                923 non-null    object \n",
            " 11  closed_at                 335 non-null    object \n",
            " 12  first_funding_at          923 non-null    object \n",
            " 13  last_funding_at           923 non-null    object \n",
            " 14  age_first_funding_year    923 non-null    float64\n",
            " 15  age_last_funding_year     923 non-null    float64\n",
            " 16  age_first_milestone_year  771 non-null    float64\n",
            " 17  age_last_milestone_year   771 non-null    float64\n",
            " 18  relationships             923 non-null    int64  \n",
            " 19  funding_rounds            923 non-null    int64  \n",
            " 20  funding_total_usd         923 non-null    int64  \n",
            " 21  milestones                923 non-null    int64  \n",
            " 22  state_code.1              922 non-null    object \n",
            " 23  is_CA                     923 non-null    int64  \n",
            " 24  is_NY                     923 non-null    int64  \n",
            " 25  is_MA                     923 non-null    int64  \n",
            " 26  is_TX                     923 non-null    int64  \n",
            " 27  is_otherstate             923 non-null    int64  \n",
            " 28  category_code             923 non-null    object \n",
            " 29  is_software               923 non-null    int64  \n",
            " 30  is_web                    923 non-null    int64  \n",
            " 31  is_mobile                 923 non-null    int64  \n",
            " 32  is_enterprise             923 non-null    int64  \n",
            " 33  is_advertising            923 non-null    int64  \n",
            " 34  is_gamesvideo             923 non-null    int64  \n",
            " 35  is_ecommerce              923 non-null    int64  \n",
            " 36  is_biotech                923 non-null    int64  \n",
            " 37  is_consulting             923 non-null    int64  \n",
            " 38  is_othercategory          923 non-null    int64  \n",
            " 39  object_id                 923 non-null    object \n",
            " 40  has_VC                    923 non-null    int64  \n",
            " 41  has_angel                 923 non-null    int64  \n",
            " 42  has_roundA                923 non-null    int64  \n",
            " 43  has_roundB                923 non-null    int64  \n",
            " 44  has_roundC                923 non-null    int64  \n",
            " 45  has_roundD                923 non-null    int64  \n",
            " 46  avg_participants          923 non-null    float64\n",
            " 47  is_top500                 923 non-null    int64  \n",
            " 48  status                    923 non-null    object \n",
            "dtypes: float64(7), int64(28), object(14)\n",
            "memory usage: 353.5+ KB\n"
          ]
        }
      ],
      "source": [
        "df.info()"
      ]
    },
    {
      "cell_type": "markdown",
      "id": "c6bb2c36",
      "metadata": {
        "papermill": {
          "duration": 0.048399,
          "end_time": "2022-02-28T21:25:45.950187",
          "exception": false,
          "start_time": "2022-02-28T21:25:45.901788",
          "status": "completed"
        },
        "tags": [],
        "id": "c6bb2c36"
      },
      "source": [
        "Checking the shape of data means how many rows and columns available in the present data."
      ]
    },
    {
      "cell_type": "code",
      "execution_count": 7,
      "id": "641c5819",
      "metadata": {
        "execution": {
          "iopub.execute_input": "2022-02-28T21:25:46.059017Z",
          "iopub.status.busy": "2022-02-28T21:25:46.058011Z",
          "iopub.status.idle": "2022-02-28T21:25:46.061216Z",
          "shell.execute_reply": "2022-02-28T21:25:46.061738Z",
          "shell.execute_reply.started": "2022-02-28T21:24:49.344013Z"
        },
        "papermill": {
          "duration": 0.060949,
          "end_time": "2022-02-28T21:25:46.061979",
          "exception": false,
          "start_time": "2022-02-28T21:25:46.001030",
          "status": "completed"
        },
        "tags": [],
        "colab": {
          "base_uri": "https://localhost:8080/"
        },
        "id": "641c5819",
        "outputId": "6a169298-35f3-4248-937c-14f5354aa911"
      },
      "outputs": [
        {
          "output_type": "execute_result",
          "data": {
            "text/plain": [
              "(923, 49)"
            ]
          },
          "metadata": {},
          "execution_count": 7
        }
      ],
      "source": [
        "df.shape"
      ]
    },
    {
      "cell_type": "markdown",
      "id": "dd391dc6",
      "metadata": {
        "papermill": {
          "duration": 0.048559,
          "end_time": "2022-02-28T21:25:46.160749",
          "exception": false,
          "start_time": "2022-02-28T21:25:46.112190",
          "status": "completed"
        },
        "tags": [],
        "id": "dd391dc6"
      },
      "source": [
        "From the shape command, we get to know that this data set has 923 rows and 49 columns (attributes)."
      ]
    },
    {
      "cell_type": "markdown",
      "id": "976a4867",
      "metadata": {
        "papermill": {
          "duration": 0.046085,
          "end_time": "2022-02-28T21:25:46.256609",
          "exception": false,
          "start_time": "2022-02-28T21:25:46.210524",
          "status": "completed"
        },
        "tags": [],
        "id": "976a4867"
      },
      "source": [
        "Converting status column data into \"1\" and \"0\"."
      ]
    },
    {
      "cell_type": "code",
      "execution_count": null,
      "id": "9a312ab8",
      "metadata": {
        "execution": {
          "iopub.execute_input": "2022-02-28T21:25:46.359341Z",
          "iopub.status.busy": "2022-02-28T21:25:46.358040Z",
          "iopub.status.idle": "2022-02-28T21:25:46.360284Z",
          "shell.execute_reply": "2022-02-28T21:25:46.360808Z",
          "shell.execute_reply.started": "2022-02-28T21:24:49.357590Z"
        },
        "papermill": {
          "duration": 0.05834,
          "end_time": "2022-02-28T21:25:46.361012",
          "exception": false,
          "start_time": "2022-02-28T21:25:46.302672",
          "status": "completed"
        },
        "tags": [],
        "id": "9a312ab8"
      },
      "outputs": [],
      "source": [
        "df[\"status\"] = np.where(df[\"status\"]== 'closed', 0, 1)"
      ]
    },
    {
      "cell_type": "code",
      "execution_count": null,
      "id": "aa8641fa",
      "metadata": {
        "execution": {
          "iopub.execute_input": "2022-02-28T21:25:46.479220Z",
          "iopub.status.busy": "2022-02-28T21:25:46.468376Z",
          "iopub.status.idle": "2022-02-28T21:25:46.491419Z",
          "shell.execute_reply": "2022-02-28T21:25:46.491980Z",
          "shell.execute_reply.started": "2022-02-28T21:24:49.367802Z"
        },
        "papermill": {
          "duration": 0.082151,
          "end_time": "2022-02-28T21:25:46.492221",
          "exception": false,
          "start_time": "2022-02-28T21:25:46.410070",
          "status": "completed"
        },
        "tags": [],
        "id": "aa8641fa",
        "outputId": "86ec1f29-fc34-44cd-9e0d-edf24909ece5"
      },
      "outputs": [
        {
          "data": {
            "text/html": [
              "<div>\n",
              "<style scoped>\n",
              "    .dataframe tbody tr th:only-of-type {\n",
              "        vertical-align: middle;\n",
              "    }\n",
              "\n",
              "    .dataframe tbody tr th {\n",
              "        vertical-align: top;\n",
              "    }\n",
              "\n",
              "    .dataframe thead th {\n",
              "        text-align: right;\n",
              "    }\n",
              "</style>\n",
              "<table border=\"1\" class=\"dataframe\">\n",
              "  <thead>\n",
              "    <tr style=\"text-align: right;\">\n",
              "      <th></th>\n",
              "      <th>Unnamed: 0</th>\n",
              "      <th>state_code</th>\n",
              "      <th>latitude</th>\n",
              "      <th>longitude</th>\n",
              "      <th>zip_code</th>\n",
              "      <th>id</th>\n",
              "      <th>city</th>\n",
              "      <th>Unnamed: 6</th>\n",
              "      <th>name</th>\n",
              "      <th>labels</th>\n",
              "      <th>...</th>\n",
              "      <th>object_id</th>\n",
              "      <th>has_VC</th>\n",
              "      <th>has_angel</th>\n",
              "      <th>has_roundA</th>\n",
              "      <th>has_roundB</th>\n",
              "      <th>has_roundC</th>\n",
              "      <th>has_roundD</th>\n",
              "      <th>avg_participants</th>\n",
              "      <th>is_top500</th>\n",
              "      <th>status</th>\n",
              "    </tr>\n",
              "  </thead>\n",
              "  <tbody>\n",
              "    <tr>\n",
              "      <th>0</th>\n",
              "      <td>1005</td>\n",
              "      <td>CA</td>\n",
              "      <td>42.358880</td>\n",
              "      <td>-71.056820</td>\n",
              "      <td>92101</td>\n",
              "      <td>c:6669</td>\n",
              "      <td>San Diego</td>\n",
              "      <td>NaN</td>\n",
              "      <td>Bandsintown</td>\n",
              "      <td>1</td>\n",
              "      <td>...</td>\n",
              "      <td>c:6669</td>\n",
              "      <td>0</td>\n",
              "      <td>1</td>\n",
              "      <td>0</td>\n",
              "      <td>0</td>\n",
              "      <td>0</td>\n",
              "      <td>0</td>\n",
              "      <td>1.0000</td>\n",
              "      <td>0</td>\n",
              "      <td>1</td>\n",
              "    </tr>\n",
              "    <tr>\n",
              "      <th>1</th>\n",
              "      <td>204</td>\n",
              "      <td>CA</td>\n",
              "      <td>37.238916</td>\n",
              "      <td>-121.973718</td>\n",
              "      <td>95032</td>\n",
              "      <td>c:16283</td>\n",
              "      <td>Los Gatos</td>\n",
              "      <td>NaN</td>\n",
              "      <td>TriCipher</td>\n",
              "      <td>1</td>\n",
              "      <td>...</td>\n",
              "      <td>c:16283</td>\n",
              "      <td>1</td>\n",
              "      <td>0</td>\n",
              "      <td>0</td>\n",
              "      <td>1</td>\n",
              "      <td>1</td>\n",
              "      <td>1</td>\n",
              "      <td>4.7500</td>\n",
              "      <td>1</td>\n",
              "      <td>1</td>\n",
              "    </tr>\n",
              "    <tr>\n",
              "      <th>2</th>\n",
              "      <td>1001</td>\n",
              "      <td>CA</td>\n",
              "      <td>32.901049</td>\n",
              "      <td>-117.192656</td>\n",
              "      <td>92121</td>\n",
              "      <td>c:65620</td>\n",
              "      <td>San Diego</td>\n",
              "      <td>San Diego CA 92121</td>\n",
              "      <td>Plixi</td>\n",
              "      <td>1</td>\n",
              "      <td>...</td>\n",
              "      <td>c:65620</td>\n",
              "      <td>0</td>\n",
              "      <td>0</td>\n",
              "      <td>1</td>\n",
              "      <td>0</td>\n",
              "      <td>0</td>\n",
              "      <td>0</td>\n",
              "      <td>4.0000</td>\n",
              "      <td>1</td>\n",
              "      <td>1</td>\n",
              "    </tr>\n",
              "    <tr>\n",
              "      <th>3</th>\n",
              "      <td>738</td>\n",
              "      <td>CA</td>\n",
              "      <td>37.320309</td>\n",
              "      <td>-122.050040</td>\n",
              "      <td>95014</td>\n",
              "      <td>c:42668</td>\n",
              "      <td>Cupertino</td>\n",
              "      <td>Cupertino CA 95014</td>\n",
              "      <td>Solidcore Systems</td>\n",
              "      <td>1</td>\n",
              "      <td>...</td>\n",
              "      <td>c:42668</td>\n",
              "      <td>0</td>\n",
              "      <td>0</td>\n",
              "      <td>0</td>\n",
              "      <td>1</td>\n",
              "      <td>1</td>\n",
              "      <td>1</td>\n",
              "      <td>3.3333</td>\n",
              "      <td>1</td>\n",
              "      <td>1</td>\n",
              "    </tr>\n",
              "    <tr>\n",
              "      <th>4</th>\n",
              "      <td>1002</td>\n",
              "      <td>CA</td>\n",
              "      <td>37.779281</td>\n",
              "      <td>-122.419236</td>\n",
              "      <td>94105</td>\n",
              "      <td>c:65806</td>\n",
              "      <td>San Francisco</td>\n",
              "      <td>San Francisco CA 94105</td>\n",
              "      <td>Inhale Digital</td>\n",
              "      <td>0</td>\n",
              "      <td>...</td>\n",
              "      <td>c:65806</td>\n",
              "      <td>1</td>\n",
              "      <td>1</td>\n",
              "      <td>0</td>\n",
              "      <td>0</td>\n",
              "      <td>0</td>\n",
              "      <td>0</td>\n",
              "      <td>1.0000</td>\n",
              "      <td>1</td>\n",
              "      <td>0</td>\n",
              "    </tr>\n",
              "  </tbody>\n",
              "</table>\n",
              "<p>5 rows × 49 columns</p>\n",
              "</div>"
            ],
            "text/plain": [
              "   Unnamed: 0 state_code   latitude   longitude zip_code       id  \\\n",
              "0        1005         CA  42.358880  -71.056820    92101   c:6669   \n",
              "1         204         CA  37.238916 -121.973718    95032  c:16283   \n",
              "2        1001         CA  32.901049 -117.192656    92121  c:65620   \n",
              "3         738         CA  37.320309 -122.050040    95014  c:42668   \n",
              "4        1002         CA  37.779281 -122.419236    94105  c:65806   \n",
              "\n",
              "            city              Unnamed: 6               name  labels  ...  \\\n",
              "0      San Diego                     NaN        Bandsintown       1  ...   \n",
              "1      Los Gatos                     NaN          TriCipher       1  ...   \n",
              "2      San Diego      San Diego CA 92121              Plixi       1  ...   \n",
              "3      Cupertino      Cupertino CA 95014  Solidcore Systems       1  ...   \n",
              "4  San Francisco  San Francisco CA 94105     Inhale Digital       0  ...   \n",
              "\n",
              "  object_id has_VC has_angel has_roundA  has_roundB  has_roundC  has_roundD  \\\n",
              "0    c:6669      0         1          0           0           0           0   \n",
              "1   c:16283      1         0          0           1           1           1   \n",
              "2   c:65620      0         0          1           0           0           0   \n",
              "3   c:42668      0         0          0           1           1           1   \n",
              "4   c:65806      1         1          0           0           0           0   \n",
              "\n",
              "   avg_participants  is_top500  status  \n",
              "0            1.0000          0       1  \n",
              "1            4.7500          1       1  \n",
              "2            4.0000          1       1  \n",
              "3            3.3333          1       1  \n",
              "4            1.0000          1       0  \n",
              "\n",
              "[5 rows x 49 columns]"
            ]
          },
          "execution_count": 30,
          "metadata": {},
          "output_type": "execute_result"
        }
      ],
      "source": [
        "df.head()"
      ]
    },
    {
      "cell_type": "code",
      "execution_count": null,
      "id": "bf960f73",
      "metadata": {
        "execution": {
          "iopub.execute_input": "2022-02-28T21:25:46.600150Z",
          "iopub.status.busy": "2022-02-28T21:25:46.599379Z",
          "iopub.status.idle": "2022-02-28T21:25:46.603950Z",
          "shell.execute_reply": "2022-02-28T21:25:46.603267Z",
          "shell.execute_reply.started": "2022-02-28T21:24:49.396541Z"
        },
        "papermill": {
          "duration": 0.064686,
          "end_time": "2022-02-28T21:25:46.604145",
          "exception": false,
          "start_time": "2022-02-28T21:25:46.539459",
          "status": "completed"
        },
        "tags": [],
        "id": "bf960f73",
        "outputId": "426112cc-76e3-446e-edb0-0243d482df56"
      },
      "outputs": [
        {
          "data": {
            "text/plain": [
              "Unnamed: 0                    0\n",
              "state_code                    0\n",
              "latitude                      0\n",
              "longitude                     0\n",
              "zip_code                      0\n",
              "id                            0\n",
              "city                          0\n",
              "Unnamed: 6                  493\n",
              "name                          0\n",
              "labels                        0\n",
              "founded_at                    0\n",
              "closed_at                   588\n",
              "first_funding_at              0\n",
              "last_funding_at               0\n",
              "age_first_funding_year        0\n",
              "age_last_funding_year         0\n",
              "age_first_milestone_year    152\n",
              "age_last_milestone_year     152\n",
              "relationships                 0\n",
              "funding_rounds                0\n",
              "funding_total_usd             0\n",
              "milestones                    0\n",
              "state_code.1                  1\n",
              "is_CA                         0\n",
              "is_NY                         0\n",
              "is_MA                         0\n",
              "is_TX                         0\n",
              "is_otherstate                 0\n",
              "category_code                 0\n",
              "is_software                   0\n",
              "is_web                        0\n",
              "is_mobile                     0\n",
              "is_enterprise                 0\n",
              "is_advertising                0\n",
              "is_gamesvideo                 0\n",
              "is_ecommerce                  0\n",
              "is_biotech                    0\n",
              "is_consulting                 0\n",
              "is_othercategory              0\n",
              "object_id                     0\n",
              "has_VC                        0\n",
              "has_angel                     0\n",
              "has_roundA                    0\n",
              "has_roundB                    0\n",
              "has_roundC                    0\n",
              "has_roundD                    0\n",
              "avg_participants              0\n",
              "is_top500                     0\n",
              "status                        0\n",
              "dtype: int64"
            ]
          },
          "execution_count": 31,
          "metadata": {},
          "output_type": "execute_result"
        }
      ],
      "source": [
        "df.isnull().sum()"
      ]
    },
    {
      "cell_type": "markdown",
      "id": "06088a10",
      "metadata": {
        "papermill": {
          "duration": 0.048246,
          "end_time": "2022-02-28T21:25:46.701798",
          "exception": false,
          "start_time": "2022-02-28T21:25:46.653552",
          "status": "completed"
        },
        "tags": [],
        "id": "06088a10"
      },
      "source": [
        "Checking the labels column values and status column values are same."
      ]
    },
    {
      "cell_type": "code",
      "execution_count": null,
      "id": "988cd5ad",
      "metadata": {
        "execution": {
          "iopub.execute_input": "2022-02-28T21:25:46.808964Z",
          "iopub.status.busy": "2022-02-28T21:25:46.807900Z",
          "iopub.status.idle": "2022-02-28T21:25:46.811875Z",
          "shell.execute_reply": "2022-02-28T21:25:46.812407Z",
          "shell.execute_reply.started": "2022-02-28T21:24:49.407306Z"
        },
        "papermill": {
          "duration": 0.061145,
          "end_time": "2022-02-28T21:25:46.812603",
          "exception": false,
          "start_time": "2022-02-28T21:25:46.751458",
          "status": "completed"
        },
        "tags": [],
        "id": "988cd5ad",
        "outputId": "9db38846-8e56-438e-e733-999c705e1cc4"
      },
      "outputs": [
        {
          "data": {
            "text/plain": [
              "0"
            ]
          },
          "execution_count": 32,
          "metadata": {},
          "output_type": "execute_result"
        }
      ],
      "source": [
        "pd.isnull(df[\"labels\"]==df[\"status\"]).sum()"
      ]
    },
    {
      "cell_type": "markdown",
      "id": "3915b737",
      "metadata": {
        "papermill": {
          "duration": 0.048374,
          "end_time": "2022-02-28T21:25:46.909018",
          "exception": false,
          "start_time": "2022-02-28T21:25:46.860644",
          "status": "completed"
        },
        "tags": [],
        "id": "3915b737"
      },
      "source": [
        "After cheacking both columns values, we got to know that both column show the same data."
      ]
    },
    {
      "cell_type": "markdown",
      "id": "34de4b38",
      "metadata": {
        "papermill": {
          "duration": 0.048025,
          "end_time": "2022-02-28T21:25:47.005819",
          "exception": false,
          "start_time": "2022-02-28T21:25:46.957794",
          "status": "completed"
        },
        "tags": [],
        "id": "34de4b38"
      },
      "source": [
        "Dropping some columns which are not useful."
      ]
    },
    {
      "cell_type": "code",
      "execution_count": null,
      "id": "711966fa",
      "metadata": {
        "execution": {
          "iopub.execute_input": "2022-02-28T21:25:47.110656Z",
          "iopub.status.busy": "2022-02-28T21:25:47.109364Z",
          "iopub.status.idle": "2022-02-28T21:25:47.113829Z",
          "shell.execute_reply": "2022-02-28T21:25:47.113141Z",
          "shell.execute_reply.started": "2022-02-28T21:24:49.420115Z"
        },
        "papermill": {
          "duration": 0.058195,
          "end_time": "2022-02-28T21:25:47.113993",
          "exception": false,
          "start_time": "2022-02-28T21:25:47.055798",
          "status": "completed"
        },
        "tags": [],
        "id": "711966fa"
      },
      "outputs": [],
      "source": [
        "df= df.drop([\"Unnamed: 0\", \"Unnamed: 6\", \"labels\",\"closed_at\", \"id\"], axis=1)"
      ]
    },
    {
      "cell_type": "code",
      "execution_count": null,
      "id": "1c855af2",
      "metadata": {
        "execution": {
          "iopub.execute_input": "2022-02-28T21:25:47.215718Z",
          "iopub.status.busy": "2022-02-28T21:25:47.214651Z",
          "iopub.status.idle": "2022-02-28T21:25:47.219343Z",
          "shell.execute_reply": "2022-02-28T21:25:47.218659Z",
          "shell.execute_reply.started": "2022-02-28T21:24:49.431102Z"
        },
        "papermill": {
          "duration": 0.05821,
          "end_time": "2022-02-28T21:25:47.219491",
          "exception": false,
          "start_time": "2022-02-28T21:25:47.161281",
          "status": "completed"
        },
        "tags": [],
        "id": "1c855af2",
        "outputId": "d096e34d-7e6d-40e4-aca2-401010174e61"
      },
      "outputs": [
        {
          "data": {
            "text/plain": [
              "(923, 44)"
            ]
          },
          "execution_count": 34,
          "metadata": {},
          "output_type": "execute_result"
        }
      ],
      "source": [
        "df.shape"
      ]
    },
    {
      "cell_type": "markdown",
      "id": "2161742c",
      "metadata": {
        "papermill": {
          "duration": 0.050642,
          "end_time": "2022-02-28T21:25:47.319861",
          "exception": false,
          "start_time": "2022-02-28T21:25:47.269219",
          "status": "completed"
        },
        "tags": [],
        "id": "2161742c"
      },
      "source": [
        " Checking null values in data set"
      ]
    },
    {
      "cell_type": "code",
      "execution_count": null,
      "id": "9268a19d",
      "metadata": {
        "execution": {
          "iopub.execute_input": "2022-02-28T21:25:47.429490Z",
          "iopub.status.busy": "2022-02-28T21:25:47.428565Z",
          "iopub.status.idle": "2022-02-28T21:25:47.432097Z",
          "shell.execute_reply": "2022-02-28T21:25:47.432630Z",
          "shell.execute_reply.started": "2022-02-28T21:24:49.439733Z"
        },
        "papermill": {
          "duration": 0.062589,
          "end_time": "2022-02-28T21:25:47.432813",
          "exception": false,
          "start_time": "2022-02-28T21:25:47.370224",
          "status": "completed"
        },
        "tags": [],
        "id": "9268a19d",
        "outputId": "72222a94-b4ef-45ed-a572-872acec8a911"
      },
      "outputs": [
        {
          "data": {
            "text/plain": [
              "state_code                    0\n",
              "latitude                      0\n",
              "longitude                     0\n",
              "zip_code                      0\n",
              "city                          0\n",
              "name                          0\n",
              "founded_at                    0\n",
              "first_funding_at              0\n",
              "last_funding_at               0\n",
              "age_first_funding_year        0\n",
              "age_last_funding_year         0\n",
              "age_first_milestone_year    152\n",
              "age_last_milestone_year     152\n",
              "relationships                 0\n",
              "funding_rounds                0\n",
              "funding_total_usd             0\n",
              "milestones                    0\n",
              "state_code.1                  1\n",
              "is_CA                         0\n",
              "is_NY                         0\n",
              "is_MA                         0\n",
              "is_TX                         0\n",
              "is_otherstate                 0\n",
              "category_code                 0\n",
              "is_software                   0\n",
              "is_web                        0\n",
              "is_mobile                     0\n",
              "is_enterprise                 0\n",
              "is_advertising                0\n",
              "is_gamesvideo                 0\n",
              "is_ecommerce                  0\n",
              "is_biotech                    0\n",
              "is_consulting                 0\n",
              "is_othercategory              0\n",
              "object_id                     0\n",
              "has_VC                        0\n",
              "has_angel                     0\n",
              "has_roundA                    0\n",
              "has_roundB                    0\n",
              "has_roundC                    0\n",
              "has_roundD                    0\n",
              "avg_participants              0\n",
              "is_top500                     0\n",
              "status                        0\n",
              "dtype: int64"
            ]
          },
          "execution_count": 35,
          "metadata": {},
          "output_type": "execute_result"
        }
      ],
      "source": [
        "df.isnull().sum()"
      ]
    },
    {
      "cell_type": "markdown",
      "id": "edc722ea",
      "metadata": {
        "papermill": {
          "duration": 0.048942,
          "end_time": "2022-02-28T21:25:47.530810",
          "exception": false,
          "start_time": "2022-02-28T21:25:47.481868",
          "status": "completed"
        },
        "tags": [],
        "id": "edc722ea"
      },
      "source": [
        "We have null values in closed_at, age_first_milestone_year, age_last_milestone_year and state_code.1 variavles. Now, we need to fill these null values issue with this data set."
      ]
    },
    {
      "cell_type": "markdown",
      "id": "a82a028a",
      "metadata": {
        "papermill": {
          "duration": 0.050529,
          "end_time": "2022-02-28T21:25:47.630956",
          "exception": false,
          "start_time": "2022-02-28T21:25:47.580427",
          "status": "completed"
        },
        "tags": [],
        "id": "a82a028a"
      },
      "source": [
        "We have null values in closed_at, age_first_milestone_year, age_last_milestone_year and state_code.1 variavles. Now, we need to solve this null value issue. to delaing with this issue, we are using \"ffill\" method to fill null values."
      ]
    },
    {
      "cell_type": "markdown",
      "id": "c83d5289",
      "metadata": {
        "papermill": {
          "duration": 0.049287,
          "end_time": "2022-02-28T21:25:47.735578",
          "exception": false,
          "start_time": "2022-02-28T21:25:47.686291",
          "status": "completed"
        },
        "tags": [],
        "id": "c83d5289"
      },
      "source": [
        "As closed_at variable have more than 50% null values, so we drop this variables from the data. age_first_milestone_year, age_last_milestone_year and state_code.1 also have less than 20% missing values. we will fill these null value with 'ffill' command which stands for 'forward fill' and will propagate last valid observation forward."
      ]
    },
    {
      "cell_type": "code",
      "execution_count": null,
      "id": "3a089a75",
      "metadata": {
        "execution": {
          "iopub.execute_input": "2022-02-28T21:25:47.840058Z",
          "iopub.status.busy": "2022-02-28T21:25:47.838964Z",
          "iopub.status.idle": "2022-02-28T21:25:47.850381Z",
          "shell.execute_reply": "2022-02-28T21:25:47.851196Z",
          "shell.execute_reply.started": "2022-02-28T21:24:49.454924Z"
        },
        "papermill": {
          "duration": 0.065669,
          "end_time": "2022-02-28T21:25:47.851430",
          "exception": false,
          "start_time": "2022-02-28T21:25:47.785761",
          "status": "completed"
        },
        "tags": [],
        "id": "3a089a75"
      },
      "outputs": [],
      "source": [
        "df[\"age_first_milestone_year\"] = df[\"age_first_milestone_year\"].fillna(method=\"ffill\")\n",
        "df[\"age_last_milestone_year\"] = df[\"age_last_milestone_year\"].fillna(method=\"ffill\")\n",
        "\n",
        "df[\"state_code.1\"] = df[\"state_code.1\"].fillna(method=\"ffill\")"
      ]
    },
    {
      "cell_type": "code",
      "execution_count": null,
      "id": "1ffc2a6c",
      "metadata": {
        "execution": {
          "iopub.execute_input": "2022-02-28T21:25:47.957974Z",
          "iopub.status.busy": "2022-02-28T21:25:47.957065Z",
          "iopub.status.idle": "2022-02-28T21:25:47.968869Z",
          "shell.execute_reply": "2022-02-28T21:25:47.968263Z",
          "shell.execute_reply.started": "2022-02-28T21:24:49.463138Z"
        },
        "papermill": {
          "duration": 0.066306,
          "end_time": "2022-02-28T21:25:47.969051",
          "exception": false,
          "start_time": "2022-02-28T21:25:47.902745",
          "status": "completed"
        },
        "tags": [],
        "id": "1ffc2a6c",
        "outputId": "0981393d-b475-48e5-c54a-78e11eee5474"
      },
      "outputs": [
        {
          "data": {
            "text/plain": [
              "state_code                  0\n",
              "latitude                    0\n",
              "longitude                   0\n",
              "zip_code                    0\n",
              "city                        0\n",
              "name                        0\n",
              "founded_at                  0\n",
              "first_funding_at            0\n",
              "last_funding_at             0\n",
              "age_first_funding_year      0\n",
              "age_last_funding_year       0\n",
              "age_first_milestone_year    0\n",
              "age_last_milestone_year     0\n",
              "relationships               0\n",
              "funding_rounds              0\n",
              "funding_total_usd           0\n",
              "milestones                  0\n",
              "state_code.1                0\n",
              "is_CA                       0\n",
              "is_NY                       0\n",
              "is_MA                       0\n",
              "is_TX                       0\n",
              "is_otherstate               0\n",
              "category_code               0\n",
              "is_software                 0\n",
              "is_web                      0\n",
              "is_mobile                   0\n",
              "is_enterprise               0\n",
              "is_advertising              0\n",
              "is_gamesvideo               0\n",
              "is_ecommerce                0\n",
              "is_biotech                  0\n",
              "is_consulting               0\n",
              "is_othercategory            0\n",
              "object_id                   0\n",
              "has_VC                      0\n",
              "has_angel                   0\n",
              "has_roundA                  0\n",
              "has_roundB                  0\n",
              "has_roundC                  0\n",
              "has_roundD                  0\n",
              "avg_participants            0\n",
              "is_top500                   0\n",
              "status                      0\n",
              "dtype: int64"
            ]
          },
          "execution_count": 14,
          "metadata": {},
          "output_type": "execute_result"
        }
      ],
      "source": [
        "df.isnull().sum()"
      ]
    },
    {
      "cell_type": "code",
      "execution_count": null,
      "id": "be62ed6a",
      "metadata": {
        "execution": {
          "iopub.execute_input": "2022-02-28T21:25:48.083279Z",
          "iopub.status.busy": "2022-02-28T21:25:48.082471Z",
          "iopub.status.idle": "2022-02-28T21:25:48.173233Z",
          "shell.execute_reply": "2022-02-28T21:25:48.173962Z",
          "shell.execute_reply.started": "2022-02-28T21:24:49.476956Z"
        },
        "papermill": {
          "duration": 0.152879,
          "end_time": "2022-02-28T21:25:48.174231",
          "exception": false,
          "start_time": "2022-02-28T21:25:48.021352",
          "status": "completed"
        },
        "tags": [],
        "id": "be62ed6a",
        "outputId": "93ae1e0f-a851-4b62-96d0-6cca3b3c5a6e"
      },
      "outputs": [
        {
          "data": {
            "text/html": [
              "<div>\n",
              "<style scoped>\n",
              "    .dataframe tbody tr th:only-of-type {\n",
              "        vertical-align: middle;\n",
              "    }\n",
              "\n",
              "    .dataframe tbody tr th {\n",
              "        vertical-align: top;\n",
              "    }\n",
              "\n",
              "    .dataframe thead th {\n",
              "        text-align: right;\n",
              "    }\n",
              "</style>\n",
              "<table border=\"1\" class=\"dataframe\">\n",
              "  <thead>\n",
              "    <tr style=\"text-align: right;\">\n",
              "      <th></th>\n",
              "      <th>latitude</th>\n",
              "      <th>longitude</th>\n",
              "      <th>age_first_funding_year</th>\n",
              "      <th>age_last_funding_year</th>\n",
              "      <th>age_first_milestone_year</th>\n",
              "      <th>age_last_milestone_year</th>\n",
              "      <th>relationships</th>\n",
              "      <th>funding_rounds</th>\n",
              "      <th>funding_total_usd</th>\n",
              "      <th>milestones</th>\n",
              "      <th>...</th>\n",
              "      <th>is_othercategory</th>\n",
              "      <th>has_VC</th>\n",
              "      <th>has_angel</th>\n",
              "      <th>has_roundA</th>\n",
              "      <th>has_roundB</th>\n",
              "      <th>has_roundC</th>\n",
              "      <th>has_roundD</th>\n",
              "      <th>avg_participants</th>\n",
              "      <th>is_top500</th>\n",
              "      <th>status</th>\n",
              "    </tr>\n",
              "  </thead>\n",
              "  <tbody>\n",
              "    <tr>\n",
              "      <th>count</th>\n",
              "      <td>923.000000</td>\n",
              "      <td>923.000000</td>\n",
              "      <td>923.000000</td>\n",
              "      <td>923.000000</td>\n",
              "      <td>923.000000</td>\n",
              "      <td>923.000000</td>\n",
              "      <td>923.000000</td>\n",
              "      <td>923.000000</td>\n",
              "      <td>9.230000e+02</td>\n",
              "      <td>923.000000</td>\n",
              "      <td>...</td>\n",
              "      <td>923.000000</td>\n",
              "      <td>923.000000</td>\n",
              "      <td>923.000000</td>\n",
              "      <td>923.000000</td>\n",
              "      <td>923.000000</td>\n",
              "      <td>923.000000</td>\n",
              "      <td>923.000000</td>\n",
              "      <td>923.000000</td>\n",
              "      <td>923.000000</td>\n",
              "      <td>923.000000</td>\n",
              "    </tr>\n",
              "    <tr>\n",
              "      <th>mean</th>\n",
              "      <td>38.517442</td>\n",
              "      <td>-103.539212</td>\n",
              "      <td>2.235630</td>\n",
              "      <td>3.931456</td>\n",
              "      <td>3.114172</td>\n",
              "      <td>4.820780</td>\n",
              "      <td>7.710726</td>\n",
              "      <td>2.310943</td>\n",
              "      <td>2.541975e+07</td>\n",
              "      <td>1.841820</td>\n",
              "      <td>...</td>\n",
              "      <td>0.322860</td>\n",
              "      <td>0.326111</td>\n",
              "      <td>0.254605</td>\n",
              "      <td>0.508126</td>\n",
              "      <td>0.392199</td>\n",
              "      <td>0.232936</td>\n",
              "      <td>0.099675</td>\n",
              "      <td>2.838586</td>\n",
              "      <td>0.809317</td>\n",
              "      <td>0.646804</td>\n",
              "    </tr>\n",
              "    <tr>\n",
              "      <th>std</th>\n",
              "      <td>3.741497</td>\n",
              "      <td>22.394167</td>\n",
              "      <td>2.510449</td>\n",
              "      <td>2.967910</td>\n",
              "      <td>2.960720</td>\n",
              "      <td>3.183375</td>\n",
              "      <td>7.265776</td>\n",
              "      <td>1.390922</td>\n",
              "      <td>1.896344e+08</td>\n",
              "      <td>1.322632</td>\n",
              "      <td>...</td>\n",
              "      <td>0.467823</td>\n",
              "      <td>0.469042</td>\n",
              "      <td>0.435875</td>\n",
              "      <td>0.500205</td>\n",
              "      <td>0.488505</td>\n",
              "      <td>0.422931</td>\n",
              "      <td>0.299729</td>\n",
              "      <td>1.874601</td>\n",
              "      <td>0.393052</td>\n",
              "      <td>0.478222</td>\n",
              "    </tr>\n",
              "    <tr>\n",
              "      <th>min</th>\n",
              "      <td>25.752358</td>\n",
              "      <td>-122.756956</td>\n",
              "      <td>-9.046600</td>\n",
              "      <td>-9.046600</td>\n",
              "      <td>-14.169900</td>\n",
              "      <td>-7.005500</td>\n",
              "      <td>0.000000</td>\n",
              "      <td>1.000000</td>\n",
              "      <td>1.100000e+04</td>\n",
              "      <td>0.000000</td>\n",
              "      <td>...</td>\n",
              "      <td>0.000000</td>\n",
              "      <td>0.000000</td>\n",
              "      <td>0.000000</td>\n",
              "      <td>0.000000</td>\n",
              "      <td>0.000000</td>\n",
              "      <td>0.000000</td>\n",
              "      <td>0.000000</td>\n",
              "      <td>1.000000</td>\n",
              "      <td>0.000000</td>\n",
              "      <td>0.000000</td>\n",
              "    </tr>\n",
              "    <tr>\n",
              "      <th>25%</th>\n",
              "      <td>37.388869</td>\n",
              "      <td>-122.198732</td>\n",
              "      <td>0.576700</td>\n",
              "      <td>1.669850</td>\n",
              "      <td>1.000000</td>\n",
              "      <td>2.498600</td>\n",
              "      <td>3.000000</td>\n",
              "      <td>1.000000</td>\n",
              "      <td>2.725000e+06</td>\n",
              "      <td>1.000000</td>\n",
              "      <td>...</td>\n",
              "      <td>0.000000</td>\n",
              "      <td>0.000000</td>\n",
              "      <td>0.000000</td>\n",
              "      <td>0.000000</td>\n",
              "      <td>0.000000</td>\n",
              "      <td>0.000000</td>\n",
              "      <td>0.000000</td>\n",
              "      <td>1.500000</td>\n",
              "      <td>1.000000</td>\n",
              "      <td>0.000000</td>\n",
              "    </tr>\n",
              "    <tr>\n",
              "      <th>50%</th>\n",
              "      <td>37.779281</td>\n",
              "      <td>-118.374037</td>\n",
              "      <td>1.446600</td>\n",
              "      <td>3.528800</td>\n",
              "      <td>2.646600</td>\n",
              "      <td>4.569900</td>\n",
              "      <td>5.000000</td>\n",
              "      <td>2.000000</td>\n",
              "      <td>1.000000e+07</td>\n",
              "      <td>2.000000</td>\n",
              "      <td>...</td>\n",
              "      <td>0.000000</td>\n",
              "      <td>0.000000</td>\n",
              "      <td>0.000000</td>\n",
              "      <td>1.000000</td>\n",
              "      <td>0.000000</td>\n",
              "      <td>0.000000</td>\n",
              "      <td>0.000000</td>\n",
              "      <td>2.500000</td>\n",
              "      <td>1.000000</td>\n",
              "      <td>1.000000</td>\n",
              "    </tr>\n",
              "    <tr>\n",
              "      <th>75%</th>\n",
              "      <td>40.730646</td>\n",
              "      <td>-77.214731</td>\n",
              "      <td>3.575350</td>\n",
              "      <td>5.560250</td>\n",
              "      <td>4.902750</td>\n",
              "      <td>6.852050</td>\n",
              "      <td>10.000000</td>\n",
              "      <td>3.000000</td>\n",
              "      <td>2.472500e+07</td>\n",
              "      <td>3.000000</td>\n",
              "      <td>...</td>\n",
              "      <td>1.000000</td>\n",
              "      <td>1.000000</td>\n",
              "      <td>1.000000</td>\n",
              "      <td>1.000000</td>\n",
              "      <td>1.000000</td>\n",
              "      <td>0.000000</td>\n",
              "      <td>0.000000</td>\n",
              "      <td>3.800000</td>\n",
              "      <td>1.000000</td>\n",
              "      <td>1.000000</td>\n",
              "    </tr>\n",
              "    <tr>\n",
              "      <th>max</th>\n",
              "      <td>59.335232</td>\n",
              "      <td>18.057121</td>\n",
              "      <td>21.895900</td>\n",
              "      <td>21.895900</td>\n",
              "      <td>24.684900</td>\n",
              "      <td>24.684900</td>\n",
              "      <td>63.000000</td>\n",
              "      <td>10.000000</td>\n",
              "      <td>5.700000e+09</td>\n",
              "      <td>8.000000</td>\n",
              "      <td>...</td>\n",
              "      <td>1.000000</td>\n",
              "      <td>1.000000</td>\n",
              "      <td>1.000000</td>\n",
              "      <td>1.000000</td>\n",
              "      <td>1.000000</td>\n",
              "      <td>1.000000</td>\n",
              "      <td>1.000000</td>\n",
              "      <td>16.000000</td>\n",
              "      <td>1.000000</td>\n",
              "      <td>1.000000</td>\n",
              "    </tr>\n",
              "  </tbody>\n",
              "</table>\n",
              "<p>8 rows × 34 columns</p>\n",
              "</div>"
            ],
            "text/plain": [
              "         latitude   longitude  age_first_funding_year  age_last_funding_year  \\\n",
              "count  923.000000  923.000000              923.000000             923.000000   \n",
              "mean    38.517442 -103.539212                2.235630               3.931456   \n",
              "std      3.741497   22.394167                2.510449               2.967910   \n",
              "min     25.752358 -122.756956               -9.046600              -9.046600   \n",
              "25%     37.388869 -122.198732                0.576700               1.669850   \n",
              "50%     37.779281 -118.374037                1.446600               3.528800   \n",
              "75%     40.730646  -77.214731                3.575350               5.560250   \n",
              "max     59.335232   18.057121               21.895900              21.895900   \n",
              "\n",
              "       age_first_milestone_year  age_last_milestone_year  relationships  \\\n",
              "count                923.000000               923.000000     923.000000   \n",
              "mean                   3.114172                 4.820780       7.710726   \n",
              "std                    2.960720                 3.183375       7.265776   \n",
              "min                  -14.169900                -7.005500       0.000000   \n",
              "25%                    1.000000                 2.498600       3.000000   \n",
              "50%                    2.646600                 4.569900       5.000000   \n",
              "75%                    4.902750                 6.852050      10.000000   \n",
              "max                   24.684900                24.684900      63.000000   \n",
              "\n",
              "       funding_rounds  funding_total_usd  milestones  ...  is_othercategory  \\\n",
              "count      923.000000       9.230000e+02  923.000000  ...        923.000000   \n",
              "mean         2.310943       2.541975e+07    1.841820  ...          0.322860   \n",
              "std          1.390922       1.896344e+08    1.322632  ...          0.467823   \n",
              "min          1.000000       1.100000e+04    0.000000  ...          0.000000   \n",
              "25%          1.000000       2.725000e+06    1.000000  ...          0.000000   \n",
              "50%          2.000000       1.000000e+07    2.000000  ...          0.000000   \n",
              "75%          3.000000       2.472500e+07    3.000000  ...          1.000000   \n",
              "max         10.000000       5.700000e+09    8.000000  ...          1.000000   \n",
              "\n",
              "           has_VC   has_angel  has_roundA  has_roundB  has_roundC  has_roundD  \\\n",
              "count  923.000000  923.000000  923.000000  923.000000  923.000000  923.000000   \n",
              "mean     0.326111    0.254605    0.508126    0.392199    0.232936    0.099675   \n",
              "std      0.469042    0.435875    0.500205    0.488505    0.422931    0.299729   \n",
              "min      0.000000    0.000000    0.000000    0.000000    0.000000    0.000000   \n",
              "25%      0.000000    0.000000    0.000000    0.000000    0.000000    0.000000   \n",
              "50%      0.000000    0.000000    1.000000    0.000000    0.000000    0.000000   \n",
              "75%      1.000000    1.000000    1.000000    1.000000    0.000000    0.000000   \n",
              "max      1.000000    1.000000    1.000000    1.000000    1.000000    1.000000   \n",
              "\n",
              "       avg_participants   is_top500      status  \n",
              "count        923.000000  923.000000  923.000000  \n",
              "mean           2.838586    0.809317    0.646804  \n",
              "std            1.874601    0.393052    0.478222  \n",
              "min            1.000000    0.000000    0.000000  \n",
              "25%            1.500000    1.000000    0.000000  \n",
              "50%            2.500000    1.000000    1.000000  \n",
              "75%            3.800000    1.000000    1.000000  \n",
              "max           16.000000    1.000000    1.000000  \n",
              "\n",
              "[8 rows x 34 columns]"
            ]
          },
          "execution_count": 37,
          "metadata": {},
          "output_type": "execute_result"
        }
      ],
      "source": [
        "df.describe()"
      ]
    },
    {
      "cell_type": "markdown",
      "id": "ede07d2c",
      "metadata": {
        "papermill": {
          "duration": 0.053908,
          "end_time": "2022-02-28T21:25:48.278238",
          "exception": false,
          "start_time": "2022-02-28T21:25:48.224330",
          "status": "completed"
        },
        "tags": [],
        "id": "ede07d2c"
      },
      "source": [
        "Dropping columns"
      ]
    },
    {
      "cell_type": "code",
      "execution_count": null,
      "id": "5bf11859",
      "metadata": {
        "execution": {
          "iopub.execute_input": "2022-02-28T21:25:48.386513Z",
          "iopub.status.busy": "2022-02-28T21:25:48.385696Z",
          "iopub.status.idle": "2022-02-28T21:25:48.476192Z",
          "shell.execute_reply": "2022-02-28T21:25:48.476728Z",
          "shell.execute_reply.started": "2022-02-28T21:24:49.565874Z"
        },
        "papermill": {
          "duration": 0.146583,
          "end_time": "2022-02-28T21:25:48.476937",
          "exception": false,
          "start_time": "2022-02-28T21:25:48.330354",
          "status": "completed"
        },
        "tags": [],
        "id": "5bf11859",
        "outputId": "5a28ce79-4ee0-4b67-acc2-869559759ec0"
      },
      "outputs": [
        {
          "data": {
            "text/html": [
              "<div>\n",
              "<style scoped>\n",
              "    .dataframe tbody tr th:only-of-type {\n",
              "        vertical-align: middle;\n",
              "    }\n",
              "\n",
              "    .dataframe tbody tr th {\n",
              "        vertical-align: top;\n",
              "    }\n",
              "\n",
              "    .dataframe thead th {\n",
              "        text-align: right;\n",
              "    }\n",
              "</style>\n",
              "<table border=\"1\" class=\"dataframe\">\n",
              "  <thead>\n",
              "    <tr style=\"text-align: right;\">\n",
              "      <th></th>\n",
              "      <th>latitude</th>\n",
              "      <th>longitude</th>\n",
              "      <th>age_first_funding_year</th>\n",
              "      <th>age_last_funding_year</th>\n",
              "      <th>age_first_milestone_year</th>\n",
              "      <th>age_last_milestone_year</th>\n",
              "      <th>relationships</th>\n",
              "      <th>funding_rounds</th>\n",
              "      <th>funding_total_usd</th>\n",
              "      <th>milestones</th>\n",
              "      <th>...</th>\n",
              "      <th>is_othercategory</th>\n",
              "      <th>has_VC</th>\n",
              "      <th>has_angel</th>\n",
              "      <th>has_roundA</th>\n",
              "      <th>has_roundB</th>\n",
              "      <th>has_roundC</th>\n",
              "      <th>has_roundD</th>\n",
              "      <th>avg_participants</th>\n",
              "      <th>is_top500</th>\n",
              "      <th>status</th>\n",
              "    </tr>\n",
              "  </thead>\n",
              "  <tbody>\n",
              "    <tr>\n",
              "      <th>count</th>\n",
              "      <td>923.000000</td>\n",
              "      <td>923.000000</td>\n",
              "      <td>923.000000</td>\n",
              "      <td>923.000000</td>\n",
              "      <td>923.000000</td>\n",
              "      <td>923.000000</td>\n",
              "      <td>923.000000</td>\n",
              "      <td>923.000000</td>\n",
              "      <td>9.230000e+02</td>\n",
              "      <td>923.000000</td>\n",
              "      <td>...</td>\n",
              "      <td>923.000000</td>\n",
              "      <td>923.000000</td>\n",
              "      <td>923.000000</td>\n",
              "      <td>923.000000</td>\n",
              "      <td>923.000000</td>\n",
              "      <td>923.000000</td>\n",
              "      <td>923.000000</td>\n",
              "      <td>923.000000</td>\n",
              "      <td>923.000000</td>\n",
              "      <td>923.000000</td>\n",
              "    </tr>\n",
              "    <tr>\n",
              "      <th>mean</th>\n",
              "      <td>38.517442</td>\n",
              "      <td>-103.539212</td>\n",
              "      <td>2.235630</td>\n",
              "      <td>3.931456</td>\n",
              "      <td>3.114172</td>\n",
              "      <td>4.820780</td>\n",
              "      <td>7.710726</td>\n",
              "      <td>2.310943</td>\n",
              "      <td>2.541975e+07</td>\n",
              "      <td>1.841820</td>\n",
              "      <td>...</td>\n",
              "      <td>0.322860</td>\n",
              "      <td>0.326111</td>\n",
              "      <td>0.254605</td>\n",
              "      <td>0.508126</td>\n",
              "      <td>0.392199</td>\n",
              "      <td>0.232936</td>\n",
              "      <td>0.099675</td>\n",
              "      <td>2.838586</td>\n",
              "      <td>0.809317</td>\n",
              "      <td>0.646804</td>\n",
              "    </tr>\n",
              "    <tr>\n",
              "      <th>std</th>\n",
              "      <td>3.741497</td>\n",
              "      <td>22.394167</td>\n",
              "      <td>2.510449</td>\n",
              "      <td>2.967910</td>\n",
              "      <td>2.960720</td>\n",
              "      <td>3.183375</td>\n",
              "      <td>7.265776</td>\n",
              "      <td>1.390922</td>\n",
              "      <td>1.896344e+08</td>\n",
              "      <td>1.322632</td>\n",
              "      <td>...</td>\n",
              "      <td>0.467823</td>\n",
              "      <td>0.469042</td>\n",
              "      <td>0.435875</td>\n",
              "      <td>0.500205</td>\n",
              "      <td>0.488505</td>\n",
              "      <td>0.422931</td>\n",
              "      <td>0.299729</td>\n",
              "      <td>1.874601</td>\n",
              "      <td>0.393052</td>\n",
              "      <td>0.478222</td>\n",
              "    </tr>\n",
              "    <tr>\n",
              "      <th>min</th>\n",
              "      <td>25.752358</td>\n",
              "      <td>-122.756956</td>\n",
              "      <td>-9.046600</td>\n",
              "      <td>-9.046600</td>\n",
              "      <td>-14.169900</td>\n",
              "      <td>-7.005500</td>\n",
              "      <td>0.000000</td>\n",
              "      <td>1.000000</td>\n",
              "      <td>1.100000e+04</td>\n",
              "      <td>0.000000</td>\n",
              "      <td>...</td>\n",
              "      <td>0.000000</td>\n",
              "      <td>0.000000</td>\n",
              "      <td>0.000000</td>\n",
              "      <td>0.000000</td>\n",
              "      <td>0.000000</td>\n",
              "      <td>0.000000</td>\n",
              "      <td>0.000000</td>\n",
              "      <td>1.000000</td>\n",
              "      <td>0.000000</td>\n",
              "      <td>0.000000</td>\n",
              "    </tr>\n",
              "    <tr>\n",
              "      <th>25%</th>\n",
              "      <td>37.388869</td>\n",
              "      <td>-122.198732</td>\n",
              "      <td>0.576700</td>\n",
              "      <td>1.669850</td>\n",
              "      <td>1.000000</td>\n",
              "      <td>2.498600</td>\n",
              "      <td>3.000000</td>\n",
              "      <td>1.000000</td>\n",
              "      <td>2.725000e+06</td>\n",
              "      <td>1.000000</td>\n",
              "      <td>...</td>\n",
              "      <td>0.000000</td>\n",
              "      <td>0.000000</td>\n",
              "      <td>0.000000</td>\n",
              "      <td>0.000000</td>\n",
              "      <td>0.000000</td>\n",
              "      <td>0.000000</td>\n",
              "      <td>0.000000</td>\n",
              "      <td>1.500000</td>\n",
              "      <td>1.000000</td>\n",
              "      <td>0.000000</td>\n",
              "    </tr>\n",
              "    <tr>\n",
              "      <th>50%</th>\n",
              "      <td>37.779281</td>\n",
              "      <td>-118.374037</td>\n",
              "      <td>1.446600</td>\n",
              "      <td>3.528800</td>\n",
              "      <td>2.646600</td>\n",
              "      <td>4.569900</td>\n",
              "      <td>5.000000</td>\n",
              "      <td>2.000000</td>\n",
              "      <td>1.000000e+07</td>\n",
              "      <td>2.000000</td>\n",
              "      <td>...</td>\n",
              "      <td>0.000000</td>\n",
              "      <td>0.000000</td>\n",
              "      <td>0.000000</td>\n",
              "      <td>1.000000</td>\n",
              "      <td>0.000000</td>\n",
              "      <td>0.000000</td>\n",
              "      <td>0.000000</td>\n",
              "      <td>2.500000</td>\n",
              "      <td>1.000000</td>\n",
              "      <td>1.000000</td>\n",
              "    </tr>\n",
              "    <tr>\n",
              "      <th>75%</th>\n",
              "      <td>40.730646</td>\n",
              "      <td>-77.214731</td>\n",
              "      <td>3.575350</td>\n",
              "      <td>5.560250</td>\n",
              "      <td>4.902750</td>\n",
              "      <td>6.852050</td>\n",
              "      <td>10.000000</td>\n",
              "      <td>3.000000</td>\n",
              "      <td>2.472500e+07</td>\n",
              "      <td>3.000000</td>\n",
              "      <td>...</td>\n",
              "      <td>1.000000</td>\n",
              "      <td>1.000000</td>\n",
              "      <td>1.000000</td>\n",
              "      <td>1.000000</td>\n",
              "      <td>1.000000</td>\n",
              "      <td>0.000000</td>\n",
              "      <td>0.000000</td>\n",
              "      <td>3.800000</td>\n",
              "      <td>1.000000</td>\n",
              "      <td>1.000000</td>\n",
              "    </tr>\n",
              "    <tr>\n",
              "      <th>max</th>\n",
              "      <td>59.335232</td>\n",
              "      <td>18.057121</td>\n",
              "      <td>21.895900</td>\n",
              "      <td>21.895900</td>\n",
              "      <td>24.684900</td>\n",
              "      <td>24.684900</td>\n",
              "      <td>63.000000</td>\n",
              "      <td>10.000000</td>\n",
              "      <td>5.700000e+09</td>\n",
              "      <td>8.000000</td>\n",
              "      <td>...</td>\n",
              "      <td>1.000000</td>\n",
              "      <td>1.000000</td>\n",
              "      <td>1.000000</td>\n",
              "      <td>1.000000</td>\n",
              "      <td>1.000000</td>\n",
              "      <td>1.000000</td>\n",
              "      <td>1.000000</td>\n",
              "      <td>16.000000</td>\n",
              "      <td>1.000000</td>\n",
              "      <td>1.000000</td>\n",
              "    </tr>\n",
              "  </tbody>\n",
              "</table>\n",
              "<p>8 rows × 34 columns</p>\n",
              "</div>"
            ],
            "text/plain": [
              "         latitude   longitude  age_first_funding_year  age_last_funding_year  \\\n",
              "count  923.000000  923.000000              923.000000             923.000000   \n",
              "mean    38.517442 -103.539212                2.235630               3.931456   \n",
              "std      3.741497   22.394167                2.510449               2.967910   \n",
              "min     25.752358 -122.756956               -9.046600              -9.046600   \n",
              "25%     37.388869 -122.198732                0.576700               1.669850   \n",
              "50%     37.779281 -118.374037                1.446600               3.528800   \n",
              "75%     40.730646  -77.214731                3.575350               5.560250   \n",
              "max     59.335232   18.057121               21.895900              21.895900   \n",
              "\n",
              "       age_first_milestone_year  age_last_milestone_year  relationships  \\\n",
              "count                923.000000               923.000000     923.000000   \n",
              "mean                   3.114172                 4.820780       7.710726   \n",
              "std                    2.960720                 3.183375       7.265776   \n",
              "min                  -14.169900                -7.005500       0.000000   \n",
              "25%                    1.000000                 2.498600       3.000000   \n",
              "50%                    2.646600                 4.569900       5.000000   \n",
              "75%                    4.902750                 6.852050      10.000000   \n",
              "max                   24.684900                24.684900      63.000000   \n",
              "\n",
              "       funding_rounds  funding_total_usd  milestones  ...  is_othercategory  \\\n",
              "count      923.000000       9.230000e+02  923.000000  ...        923.000000   \n",
              "mean         2.310943       2.541975e+07    1.841820  ...          0.322860   \n",
              "std          1.390922       1.896344e+08    1.322632  ...          0.467823   \n",
              "min          1.000000       1.100000e+04    0.000000  ...          0.000000   \n",
              "25%          1.000000       2.725000e+06    1.000000  ...          0.000000   \n",
              "50%          2.000000       1.000000e+07    2.000000  ...          0.000000   \n",
              "75%          3.000000       2.472500e+07    3.000000  ...          1.000000   \n",
              "max         10.000000       5.700000e+09    8.000000  ...          1.000000   \n",
              "\n",
              "           has_VC   has_angel  has_roundA  has_roundB  has_roundC  has_roundD  \\\n",
              "count  923.000000  923.000000  923.000000  923.000000  923.000000  923.000000   \n",
              "mean     0.326111    0.254605    0.508126    0.392199    0.232936    0.099675   \n",
              "std      0.469042    0.435875    0.500205    0.488505    0.422931    0.299729   \n",
              "min      0.000000    0.000000    0.000000    0.000000    0.000000    0.000000   \n",
              "25%      0.000000    0.000000    0.000000    0.000000    0.000000    0.000000   \n",
              "50%      0.000000    0.000000    1.000000    0.000000    0.000000    0.000000   \n",
              "75%      1.000000    1.000000    1.000000    1.000000    0.000000    0.000000   \n",
              "max      1.000000    1.000000    1.000000    1.000000    1.000000    1.000000   \n",
              "\n",
              "       avg_participants   is_top500      status  \n",
              "count        923.000000  923.000000  923.000000  \n",
              "mean           2.838586    0.809317    0.646804  \n",
              "std            1.874601    0.393052    0.478222  \n",
              "min            1.000000    0.000000    0.000000  \n",
              "25%            1.500000    1.000000    0.000000  \n",
              "50%            2.500000    1.000000    1.000000  \n",
              "75%            3.800000    1.000000    1.000000  \n",
              "max           16.000000    1.000000    1.000000  \n",
              "\n",
              "[8 rows x 34 columns]"
            ]
          },
          "execution_count": 38,
          "metadata": {},
          "output_type": "execute_result"
        }
      ],
      "source": [
        "df.describe()"
      ]
    },
    {
      "cell_type": "markdown",
      "id": "3f8e7728",
      "metadata": {
        "papermill": {
          "duration": 0.051827,
          "end_time": "2022-02-28T21:25:48.579974",
          "exception": false,
          "start_time": "2022-02-28T21:25:48.528147",
          "status": "completed"
        },
        "tags": [],
        "id": "3f8e7728"
      },
      "source": [
        "Checking the correlation of the input variables to the target variable."
      ]
    },
    {
      "cell_type": "code",
      "execution_count": null,
      "id": "fc4c0d3f",
      "metadata": {
        "execution": {
          "iopub.execute_input": "2022-02-28T21:25:48.687442Z",
          "iopub.status.busy": "2022-02-28T21:25:48.686686Z",
          "iopub.status.idle": "2022-02-28T21:25:48.699675Z",
          "shell.execute_reply": "2022-02-28T21:25:48.700238Z",
          "shell.execute_reply.started": "2022-02-28T21:24:49.655152Z"
        },
        "papermill": {
          "duration": 0.069702,
          "end_time": "2022-02-28T21:25:48.700446",
          "exception": false,
          "start_time": "2022-02-28T21:25:48.630744",
          "status": "completed"
        },
        "tags": [],
        "id": "fc4c0d3f",
        "outputId": "44973eab-6d7a-4e60-d4ce-898d2b82dd58"
      },
      "outputs": [
        {
          "data": {
            "text/plain": [
              "status                      1.000000\n",
              "relationships               0.360434\n",
              "milestones                  0.328260\n",
              "is_top500                   0.310652\n",
              "has_roundB                  0.208257\n",
              "funding_rounds              0.206049\n",
              "age_last_milestone_year     0.192233\n",
              "avg_participants            0.185992\n",
              "has_roundA                  0.184307\n",
              "has_roundC                  0.165902\n",
              "has_roundD                  0.139940\n",
              "age_first_milestone_year    0.116857\n",
              "is_MA                       0.081735\n",
              "is_CA                       0.077217\n",
              "is_enterprise               0.073772\n",
              "age_last_funding_year       0.073731\n",
              "is_NY                       0.059996\n",
              "latitude                    0.046560\n",
              "is_advertising              0.044355\n",
              "funding_total_usd           0.040176\n",
              "is_software                 0.012429\n",
              "is_mobile                   0.007312\n",
              "is_consulting               0.002373\n",
              "is_biotech                  0.000104\n",
              "is_web                     -0.000873\n",
              "is_gamesvideo              -0.025893\n",
              "longitude                  -0.036092\n",
              "is_othercategory           -0.042408\n",
              "is_TX                      -0.045309\n",
              "has_VC                     -0.056515\n",
              "is_ecommerce               -0.072193\n",
              "has_angel                  -0.072840\n",
              "age_first_funding_year     -0.075637\n",
              "is_otherstate              -0.169067\n",
              "Name: status, dtype: float64"
            ]
          },
          "execution_count": 39,
          "metadata": {},
          "output_type": "execute_result"
        }
      ],
      "source": [
        "corr_matrix=df.corr()\n",
        "corr_matrix[\"status\"].sort_values(ascending=False)"
      ]
    },
    {
      "cell_type": "markdown",
      "id": "20a22dd5",
      "metadata": {
        "papermill": {
          "duration": 0.050099,
          "end_time": "2022-02-28T21:25:48.805057",
          "exception": false,
          "start_time": "2022-02-28T21:25:48.754958",
          "status": "completed"
        },
        "tags": [],
        "id": "20a22dd5"
      },
      "source": [
        "Now, we will make a input data set for the model which have only above variables."
      ]
    },
    {
      "cell_type": "code",
      "execution_count": null,
      "id": "d4d62189",
      "metadata": {
        "execution": {
          "iopub.execute_input": "2022-02-28T21:25:48.911438Z",
          "iopub.status.busy": "2022-02-28T21:25:48.910653Z",
          "iopub.status.idle": "2022-02-28T21:25:48.917857Z",
          "shell.execute_reply": "2022-02-28T21:25:48.918481Z",
          "shell.execute_reply.started": "2022-02-28T21:24:49.670523Z"
        },
        "papermill": {
          "duration": 0.062903,
          "end_time": "2022-02-28T21:25:48.918665",
          "exception": false,
          "start_time": "2022-02-28T21:25:48.855762",
          "status": "completed"
        },
        "tags": [],
        "id": "d4d62189"
      },
      "outputs": [],
      "source": [
        "X = df[['relationships', 'milestones', 'is_top500', 'has_roundB', 'funding_rounds', 'age_last_milestone_year',\n",
        "               'avg_participants', 'has_roundA', 'has_roundC', 'has_roundD', 'age_first_milestone_year', 'is_MA',\n",
        "               'is_CA', 'is_enterprise', 'age_last_funding_year', 'is_NY', 'latitude', 'is_advertising', 'is_advertising',\n",
        "               'funding_total_usd', 'is_software', 'is_mobile', 'is_consulting', 'is_biotech', 'is_biotech', 'is_web',\n",
        "               'is_gamesvideo', 'longitude', 'is_othercategory', 'is_TX', 'has_VC', 'is_ecommerce', 'has_angel',\n",
        "               'age_first_funding_year', 'is_otherstate']]"
      ]
    },
    {
      "cell_type": "code",
      "execution_count": null,
      "id": "7dc7ff16",
      "metadata": {
        "execution": {
          "iopub.execute_input": "2022-02-28T21:25:49.026722Z",
          "iopub.status.busy": "2022-02-28T21:25:49.026047Z",
          "iopub.status.idle": "2022-02-28T21:25:49.049979Z",
          "shell.execute_reply": "2022-02-28T21:25:49.050697Z",
          "shell.execute_reply.started": "2022-02-28T21:24:49.679779Z"
        },
        "papermill": {
          "duration": 0.080053,
          "end_time": "2022-02-28T21:25:49.050899",
          "exception": false,
          "start_time": "2022-02-28T21:25:48.970846",
          "status": "completed"
        },
        "tags": [],
        "id": "7dc7ff16",
        "outputId": "45486b09-732a-4efd-fed8-8e45082c9691"
      },
      "outputs": [
        {
          "data": {
            "text/html": [
              "<div>\n",
              "<style scoped>\n",
              "    .dataframe tbody tr th:only-of-type {\n",
              "        vertical-align: middle;\n",
              "    }\n",
              "\n",
              "    .dataframe tbody tr th {\n",
              "        vertical-align: top;\n",
              "    }\n",
              "\n",
              "    .dataframe thead th {\n",
              "        text-align: right;\n",
              "    }\n",
              "</style>\n",
              "<table border=\"1\" class=\"dataframe\">\n",
              "  <thead>\n",
              "    <tr style=\"text-align: right;\">\n",
              "      <th></th>\n",
              "      <th>relationships</th>\n",
              "      <th>milestones</th>\n",
              "      <th>is_top500</th>\n",
              "      <th>has_roundB</th>\n",
              "      <th>funding_rounds</th>\n",
              "      <th>age_last_milestone_year</th>\n",
              "      <th>avg_participants</th>\n",
              "      <th>has_roundA</th>\n",
              "      <th>has_roundC</th>\n",
              "      <th>has_roundD</th>\n",
              "      <th>...</th>\n",
              "      <th>is_web</th>\n",
              "      <th>is_gamesvideo</th>\n",
              "      <th>longitude</th>\n",
              "      <th>is_othercategory</th>\n",
              "      <th>is_TX</th>\n",
              "      <th>has_VC</th>\n",
              "      <th>is_ecommerce</th>\n",
              "      <th>has_angel</th>\n",
              "      <th>age_first_funding_year</th>\n",
              "      <th>is_otherstate</th>\n",
              "    </tr>\n",
              "  </thead>\n",
              "  <tbody>\n",
              "    <tr>\n",
              "      <th>0</th>\n",
              "      <td>3</td>\n",
              "      <td>3</td>\n",
              "      <td>0</td>\n",
              "      <td>0</td>\n",
              "      <td>3</td>\n",
              "      <td>6.7041</td>\n",
              "      <td>1.0000</td>\n",
              "      <td>0</td>\n",
              "      <td>0</td>\n",
              "      <td>0</td>\n",
              "      <td>...</td>\n",
              "      <td>0</td>\n",
              "      <td>0</td>\n",
              "      <td>-71.056820</td>\n",
              "      <td>1</td>\n",
              "      <td>0</td>\n",
              "      <td>0</td>\n",
              "      <td>0</td>\n",
              "      <td>1</td>\n",
              "      <td>2.2493</td>\n",
              "      <td>0</td>\n",
              "    </tr>\n",
              "    <tr>\n",
              "      <th>1</th>\n",
              "      <td>9</td>\n",
              "      <td>1</td>\n",
              "      <td>1</td>\n",
              "      <td>1</td>\n",
              "      <td>4</td>\n",
              "      <td>7.0055</td>\n",
              "      <td>4.7500</td>\n",
              "      <td>0</td>\n",
              "      <td>1</td>\n",
              "      <td>1</td>\n",
              "      <td>...</td>\n",
              "      <td>0</td>\n",
              "      <td>0</td>\n",
              "      <td>-121.973718</td>\n",
              "      <td>0</td>\n",
              "      <td>0</td>\n",
              "      <td>1</td>\n",
              "      <td>0</td>\n",
              "      <td>0</td>\n",
              "      <td>5.1260</td>\n",
              "      <td>0</td>\n",
              "    </tr>\n",
              "    <tr>\n",
              "      <th>2</th>\n",
              "      <td>5</td>\n",
              "      <td>2</td>\n",
              "      <td>1</td>\n",
              "      <td>0</td>\n",
              "      <td>1</td>\n",
              "      <td>2.2055</td>\n",
              "      <td>4.0000</td>\n",
              "      <td>1</td>\n",
              "      <td>0</td>\n",
              "      <td>0</td>\n",
              "      <td>...</td>\n",
              "      <td>1</td>\n",
              "      <td>0</td>\n",
              "      <td>-117.192656</td>\n",
              "      <td>0</td>\n",
              "      <td>0</td>\n",
              "      <td>0</td>\n",
              "      <td>0</td>\n",
              "      <td>0</td>\n",
              "      <td>1.0329</td>\n",
              "      <td>0</td>\n",
              "    </tr>\n",
              "    <tr>\n",
              "      <th>3</th>\n",
              "      <td>5</td>\n",
              "      <td>1</td>\n",
              "      <td>1</td>\n",
              "      <td>1</td>\n",
              "      <td>3</td>\n",
              "      <td>6.0027</td>\n",
              "      <td>3.3333</td>\n",
              "      <td>0</td>\n",
              "      <td>1</td>\n",
              "      <td>1</td>\n",
              "      <td>...</td>\n",
              "      <td>0</td>\n",
              "      <td>0</td>\n",
              "      <td>-122.050040</td>\n",
              "      <td>0</td>\n",
              "      <td>0</td>\n",
              "      <td>0</td>\n",
              "      <td>0</td>\n",
              "      <td>0</td>\n",
              "      <td>3.1315</td>\n",
              "      <td>0</td>\n",
              "    </tr>\n",
              "    <tr>\n",
              "      <th>4</th>\n",
              "      <td>2</td>\n",
              "      <td>1</td>\n",
              "      <td>1</td>\n",
              "      <td>0</td>\n",
              "      <td>2</td>\n",
              "      <td>0.0384</td>\n",
              "      <td>1.0000</td>\n",
              "      <td>0</td>\n",
              "      <td>0</td>\n",
              "      <td>0</td>\n",
              "      <td>...</td>\n",
              "      <td>0</td>\n",
              "      <td>1</td>\n",
              "      <td>-122.419236</td>\n",
              "      <td>0</td>\n",
              "      <td>0</td>\n",
              "      <td>1</td>\n",
              "      <td>0</td>\n",
              "      <td>1</td>\n",
              "      <td>0.0000</td>\n",
              "      <td>0</td>\n",
              "    </tr>\n",
              "  </tbody>\n",
              "</table>\n",
              "<p>5 rows × 35 columns</p>\n",
              "</div>"
            ],
            "text/plain": [
              "   relationships  milestones  is_top500  has_roundB  funding_rounds  \\\n",
              "0              3           3          0           0               3   \n",
              "1              9           1          1           1               4   \n",
              "2              5           2          1           0               1   \n",
              "3              5           1          1           1               3   \n",
              "4              2           1          1           0               2   \n",
              "\n",
              "   age_last_milestone_year  avg_participants  has_roundA  has_roundC  \\\n",
              "0                   6.7041            1.0000           0           0   \n",
              "1                   7.0055            4.7500           0           1   \n",
              "2                   2.2055            4.0000           1           0   \n",
              "3                   6.0027            3.3333           0           1   \n",
              "4                   0.0384            1.0000           0           0   \n",
              "\n",
              "   has_roundD  ...  is_web  is_gamesvideo   longitude  is_othercategory  \\\n",
              "0           0  ...       0              0  -71.056820                 1   \n",
              "1           1  ...       0              0 -121.973718                 0   \n",
              "2           0  ...       1              0 -117.192656                 0   \n",
              "3           1  ...       0              0 -122.050040                 0   \n",
              "4           0  ...       0              1 -122.419236                 0   \n",
              "\n",
              "   is_TX  has_VC  is_ecommerce  has_angel  age_first_funding_year  \\\n",
              "0      0       0             0          1                  2.2493   \n",
              "1      0       1             0          0                  5.1260   \n",
              "2      0       0             0          0                  1.0329   \n",
              "3      0       0             0          0                  3.1315   \n",
              "4      0       1             0          1                  0.0000   \n",
              "\n",
              "   is_otherstate  \n",
              "0              0  \n",
              "1              0  \n",
              "2              0  \n",
              "3              0  \n",
              "4              0  \n",
              "\n",
              "[5 rows x 35 columns]"
            ]
          },
          "execution_count": 41,
          "metadata": {},
          "output_type": "execute_result"
        }
      ],
      "source": [
        "X.head()"
      ]
    },
    {
      "cell_type": "markdown",
      "id": "c1240176",
      "metadata": {
        "papermill": {
          "duration": 0.05072,
          "end_time": "2022-02-28T21:25:49.152687",
          "exception": false,
          "start_time": "2022-02-28T21:25:49.101967",
          "status": "completed"
        },
        "tags": [],
        "id": "c1240176"
      },
      "source": [
        "Separating Target variable from the main data set"
      ]
    },
    {
      "cell_type": "code",
      "execution_count": null,
      "id": "6b417452",
      "metadata": {
        "execution": {
          "iopub.execute_input": "2022-02-28T21:25:49.265040Z",
          "iopub.status.busy": "2022-02-28T21:25:49.264305Z",
          "iopub.status.idle": "2022-02-28T21:25:49.268338Z",
          "shell.execute_reply": "2022-02-28T21:25:49.267804Z",
          "shell.execute_reply.started": "2022-02-28T21:24:49.712592Z"
        },
        "papermill": {
          "duration": 0.065006,
          "end_time": "2022-02-28T21:25:49.268493",
          "exception": false,
          "start_time": "2022-02-28T21:25:49.203487",
          "status": "completed"
        },
        "tags": [],
        "id": "6b417452",
        "outputId": "d429f662-4858-4822-d081-11bec8ca67c3"
      },
      "outputs": [
        {
          "data": {
            "text/plain": [
              "0    1\n",
              "1    1\n",
              "2    1\n",
              "3    1\n",
              "4    0\n",
              "Name: status, dtype: int32"
            ]
          },
          "execution_count": 42,
          "metadata": {},
          "output_type": "execute_result"
        }
      ],
      "source": [
        "y = df['status']\n",
        "y.head()"
      ]
    },
    {
      "cell_type": "markdown",
      "id": "500c99eb",
      "metadata": {
        "papermill": {
          "duration": 0.050995,
          "end_time": "2022-02-28T21:25:49.371580",
          "exception": false,
          "start_time": "2022-02-28T21:25:49.320585",
          "status": "completed"
        },
        "tags": [],
        "id": "500c99eb"
      },
      "source": [
        "Standardizing our input data"
      ]
    },
    {
      "cell_type": "code",
      "execution_count": null,
      "id": "697d0078",
      "metadata": {
        "execution": {
          "iopub.execute_input": "2022-02-28T21:25:49.478317Z",
          "iopub.status.busy": "2022-02-28T21:25:49.477519Z",
          "iopub.status.idle": "2022-02-28T21:25:50.709864Z",
          "shell.execute_reply": "2022-02-28T21:25:50.710414Z",
          "shell.execute_reply.started": "2022-02-28T21:24:49.721877Z"
        },
        "papermill": {
          "duration": 1.287557,
          "end_time": "2022-02-28T21:25:50.710649",
          "exception": false,
          "start_time": "2022-02-28T21:25:49.423092",
          "status": "completed"
        },
        "tags": [],
        "id": "697d0078"
      },
      "outputs": [],
      "source": [
        "from sklearn.preprocessing import StandardScaler\n",
        "\n",
        "scale= StandardScaler()\n",
        "scaled_data = scale.fit_transform(X)"
      ]
    },
    {
      "cell_type": "markdown",
      "id": "ed19ceed",
      "metadata": {
        "papermill": {
          "duration": 0.053678,
          "end_time": "2022-02-28T21:25:50.817176",
          "exception": false,
          "start_time": "2022-02-28T21:25:50.763498",
          "status": "completed"
        },
        "tags": [],
        "id": "ed19ceed"
      },
      "source": [
        "Splitting input and target data into train, test"
      ]
    },
    {
      "cell_type": "code",
      "execution_count": null,
      "id": "d69de126",
      "metadata": {
        "execution": {
          "iopub.execute_input": "2022-02-28T21:25:50.930731Z",
          "iopub.status.busy": "2022-02-28T21:25:50.928209Z",
          "iopub.status.idle": "2022-02-28T21:25:50.996642Z",
          "shell.execute_reply": "2022-02-28T21:25:50.997238Z",
          "shell.execute_reply.started": "2022-02-28T21:24:49.737142Z"
        },
        "papermill": {
          "duration": 0.125056,
          "end_time": "2022-02-28T21:25:50.997436",
          "exception": false,
          "start_time": "2022-02-28T21:25:50.872380",
          "status": "completed"
        },
        "tags": [],
        "id": "d69de126"
      },
      "outputs": [],
      "source": [
        "from sklearn.model_selection import train_test_split\n",
        "X_train, X_test, y_train, y_test = train_test_split(scaled_data, y, test_size=0.20, random_state=7)"
      ]
    },
    {
      "cell_type": "code",
      "execution_count": null,
      "id": "c8e423db",
      "metadata": {
        "execution": {
          "iopub.execute_input": "2022-02-28T21:25:51.104800Z",
          "iopub.status.busy": "2022-02-28T21:25:51.104170Z",
          "iopub.status.idle": "2022-02-28T21:25:51.108998Z",
          "shell.execute_reply": "2022-02-28T21:25:51.109568Z",
          "shell.execute_reply.started": "2022-02-28T21:24:49.747427Z"
        },
        "papermill": {
          "duration": 0.060706,
          "end_time": "2022-02-28T21:25:51.109744",
          "exception": false,
          "start_time": "2022-02-28T21:25:51.049038",
          "status": "completed"
        },
        "tags": [],
        "id": "c8e423db",
        "outputId": "38c42a61-2333-4af0-84e1-136d405729ac"
      },
      "outputs": [
        {
          "data": {
            "text/plain": [
              "738"
            ]
          },
          "execution_count": 45,
          "metadata": {},
          "output_type": "execute_result"
        }
      ],
      "source": [
        "len(X_train)"
      ]
    },
    {
      "cell_type": "code",
      "execution_count": null,
      "id": "c109b0e1",
      "metadata": {
        "execution": {
          "iopub.execute_input": "2022-02-28T21:25:51.219899Z",
          "iopub.status.busy": "2022-02-28T21:25:51.219271Z",
          "iopub.status.idle": "2022-02-28T21:25:51.225043Z",
          "shell.execute_reply": "2022-02-28T21:25:51.225691Z",
          "shell.execute_reply.started": "2022-02-28T21:24:49.757551Z"
        },
        "papermill": {
          "duration": 0.061879,
          "end_time": "2022-02-28T21:25:51.225868",
          "exception": false,
          "start_time": "2022-02-28T21:25:51.163989",
          "status": "completed"
        },
        "tags": [],
        "id": "c109b0e1",
        "outputId": "8a5ad77a-e5cc-4a50-de02-a0769c337cb3"
      },
      "outputs": [
        {
          "data": {
            "text/plain": [
              "185"
            ]
          },
          "execution_count": 49,
          "metadata": {},
          "output_type": "execute_result"
        }
      ],
      "source": [
        "len(X_test)"
      ]
    },
    {
      "cell_type": "markdown",
      "id": "44f65b4b",
      "metadata": {
        "papermill": {
          "duration": 0.051404,
          "end_time": "2022-02-28T21:25:51.329538",
          "exception": false,
          "start_time": "2022-02-28T21:25:51.278134",
          "status": "completed"
        },
        "tags": [],
        "id": "44f65b4b"
      },
      "source": [
        "Comparing the different kind of models and their performance."
      ]
    },
    {
      "cell_type": "code",
      "execution_count": null,
      "id": "66f30e01",
      "metadata": {
        "execution": {
          "iopub.execute_input": "2022-02-28T21:25:51.437652Z",
          "iopub.status.busy": "2022-02-28T21:25:51.436903Z",
          "iopub.status.idle": "2022-02-28T21:25:51.666917Z",
          "shell.execute_reply": "2022-02-28T21:25:51.666253Z",
          "shell.execute_reply.started": "2022-02-28T21:24:49.769688Z"
        },
        "papermill": {
          "duration": 0.285496,
          "end_time": "2022-02-28T21:25:51.667078",
          "exception": false,
          "start_time": "2022-02-28T21:25:51.381582",
          "status": "completed"
        },
        "tags": [],
        "id": "66f30e01"
      },
      "outputs": [],
      "source": [
        "from sklearn.metrics import accuracy_score\n",
        "from sklearn.metrics import classification_report\n",
        "from sklearn.metrics import confusion_matrix\n",
        "from sklearn import model_selection\n",
        "\n",
        "from sklearn.linear_model import LogisticRegression\n",
        "from sklearn.tree import DecisionTreeClassifier\n",
        "from sklearn.ensemble import RandomForestClassifier\n",
        "from sklearn.naive_bayes import GaussianNB\n",
        "from sklearn.ensemble import GradientBoostingClassifier\n",
        "from sklearn.ensemble import AdaBoostClassifier"
      ]
    },
    {
      "cell_type": "code",
      "execution_count": null,
      "id": "bf6c1fcd",
      "metadata": {
        "execution": {
          "iopub.execute_input": "2022-02-28T21:25:51.777536Z",
          "iopub.status.busy": "2022-02-28T21:25:51.776660Z",
          "iopub.status.idle": "2022-02-28T21:26:00.309180Z",
          "shell.execute_reply": "2022-02-28T21:26:00.308387Z",
          "shell.execute_reply.started": "2022-02-28T21:24:49.779494Z"
        },
        "papermill": {
          "duration": 8.588712,
          "end_time": "2022-02-28T21:26:00.309358",
          "exception": false,
          "start_time": "2022-02-28T21:25:51.720646",
          "status": "completed"
        },
        "tags": [],
        "id": "bf6c1fcd",
        "outputId": "1ac8effe-5945-4283-c1c3-5602be52d46a"
      },
      "outputs": [
        {
          "name": "stdout",
          "output_type": "stream",
          "text": [
            "Logi_Reg: 0.736723 (0.049064)\n",
            "Deci_Tree: 0.703179 (0.027043)\n",
            "Rand_Forest: 0.790919 (0.029800)\n",
            "Naive_Bayes: 0.608871 (0.080267)\n",
            "Gradient_Boosting: 0.787693 (0.040974)\n",
            "Ada_Boost: 0.768209 (0.040601)\n"
          ]
        },
        {
          "data": {
            "image/png": "[encoded data removed]",
            "text/plain": [
              "<Figure size 640x480 with 1 Axes>"
            ]
          },
          "metadata": {},
          "output_type": "display_data"
        }
      ],
      "source": [
        "# prepare configuration for cross validation\n",
        "seed = 7\n",
        "\n",
        "# prepare models\n",
        "models = []\n",
        "models.append(('Logi_Reg', LogisticRegression()))\n",
        "models.append(('Deci_Tree', DecisionTreeClassifier()))\n",
        "models.append(('Rand_Forest', RandomForestClassifier()))\n",
        "models.append(('Naive_Bayes', GaussianNB()))\n",
        "models.append((\"Gradient_Boosting\", GradientBoostingClassifier()))\n",
        "models.append((\"Ada_Boost\", AdaBoostClassifier()))\n",
        "\n",
        "# evaluate each model in turn\n",
        "results = []\n",
        "names = []\n",
        "scoring = 'accuracy'\n",
        "\n",
        "for name, model in models:\n",
        "    kfold = model_selection.KFold(n_splits=10, random_state=None)\n",
        "    cv_results = model_selection.cross_val_score(model, scaled_data, y, cv=kfold, scoring=scoring)\n",
        "    results.append(cv_results)\n",
        "    names.append(name)\n",
        "    msg = \"%s: %f (%f)\" % (name, cv_results.mean(), cv_results.std())\n",
        "    print(msg)\n",
        "\n",
        "# boxplot for Comparison of Different Models\n",
        "fig = plt.figure()\n",
        "fig.suptitle('Comparison of Different Models')\n",
        "ax = fig.add_subplot(111)\n",
        "plt.boxplot(results)\n",
        "ax.set_xticklabels(names)\n",
        "plt.show()"
      ]
    },
    {
      "cell_type": "markdown",
      "id": "1e863e94",
      "metadata": {
        "papermill": {
          "duration": 0.054997,
          "end_time": "2022-02-28T21:26:00.419683",
          "exception": false,
          "start_time": "2022-02-28T21:26:00.364686",
          "status": "completed"
        },
        "tags": [],
        "id": "1e863e94"
      },
      "source": [
        "from the above results, Out of all models Random Forest and Gradient_Boosting have good results. So, we will go with these models."
      ]
    },
    {
      "cell_type": "code",
      "execution_count": null,
      "id": "1a25cd11",
      "metadata": {
        "execution": {
          "iopub.execute_input": "2022-02-28T21:26:00.536282Z",
          "iopub.status.busy": "2022-02-28T21:26:00.535520Z",
          "iopub.status.idle": "2022-02-28T21:26:00.827515Z",
          "shell.execute_reply": "2022-02-28T21:26:00.828046Z",
          "shell.execute_reply.started": "2022-02-28T21:24:57.685211Z"
        },
        "papermill": {
          "duration": 0.353045,
          "end_time": "2022-02-28T21:26:00.828289",
          "exception": false,
          "start_time": "2022-02-28T21:26:00.475244",
          "status": "completed"
        },
        "tags": [],
        "id": "1a25cd11"
      },
      "outputs": [],
      "source": [
        "cls = GradientBoostingClassifier(random_state=7)\n",
        "cls.fit(X_train,y_train)\n",
        "y_pred = cls.predict(X_test)"
      ]
    },
    {
      "cell_type": "markdown",
      "id": "87bbada7",
      "metadata": {
        "papermill": {
          "duration": 0.055068,
          "end_time": "2022-02-28T21:26:00.939801",
          "exception": false,
          "start_time": "2022-02-28T21:26:00.884733",
          "status": "completed"
        },
        "tags": [],
        "id": "87bbada7"
      },
      "source": [
        "Now, we will check the accuracry of this model. we also make confusion matrix and generate a classification report."
      ]
    },
    {
      "cell_type": "code",
      "execution_count": null,
      "id": "769c0834",
      "metadata": {
        "execution": {
          "iopub.execute_input": "2022-02-28T21:26:01.059250Z",
          "iopub.status.busy": "2022-02-28T21:26:01.058457Z",
          "iopub.status.idle": "2022-02-28T21:26:01.069388Z",
          "shell.execute_reply": "2022-02-28T21:26:01.070315Z",
          "shell.execute_reply.started": "2022-02-28T21:24:57.974226Z"
        },
        "papermill": {
          "duration": 0.075709,
          "end_time": "2022-02-28T21:26:01.070843",
          "exception": false,
          "start_time": "2022-02-28T21:26:00.995134",
          "status": "completed"
        },
        "tags": [],
        "id": "769c0834",
        "outputId": "c8b195c7-1127-4565-ac7a-45b3f733b190"
      },
      "outputs": [
        {
          "name": "stdout",
          "output_type": "stream",
          "text": [
            "0.7675675675675676\n",
            "[[ 39  34]\n",
            " [  9 103]]\n",
            "              precision    recall  f1-score   support\n",
            "\n",
            "           0       0.81      0.53      0.64        73\n",
            "           1       0.75      0.92      0.83       112\n",
            "\n",
            "    accuracy                           0.77       185\n",
            "   macro avg       0.78      0.73      0.74       185\n",
            "weighted avg       0.78      0.77      0.76       185\n",
            "\n"
          ]
        }
      ],
      "source": [
        "print(accuracy_score(y_test,y_pred))\n",
        "print(confusion_matrix(y_test,y_pred))\n",
        "print(classification_report(y_test,y_pred))"
      ]
    },
    {
      "cell_type": "code",
      "execution_count": null,
      "id": "16837131",
      "metadata": {
        "execution": {
          "iopub.execute_input": "2022-02-28T21:26:01.190677Z",
          "iopub.status.busy": "2022-02-28T21:26:01.187258Z",
          "iopub.status.idle": "2022-02-28T21:26:01.471210Z",
          "shell.execute_reply": "2022-02-28T21:26:01.472137Z",
          "shell.execute_reply.started": "2022-02-28T21:24:57.989469Z"
        },
        "papermill": {
          "duration": 0.344325,
          "end_time": "2022-02-28T21:26:01.472456",
          "exception": false,
          "start_time": "2022-02-28T21:26:01.128131",
          "status": "completed"
        },
        "tags": [],
        "id": "16837131"
      },
      "outputs": [],
      "source": [
        "cls1 = RandomForestClassifier(random_state=7)\n",
        "cls1.fit(X_train,y_train)\n",
        "y_pred = cls1.predict(X_test)"
      ]
    },
    {
      "cell_type": "code",
      "execution_count": null,
      "id": "01d8a88f",
      "metadata": {
        "execution": {
          "iopub.execute_input": "2022-02-28T21:26:01.591721Z",
          "iopub.status.busy": "2022-02-28T21:26:01.590912Z",
          "iopub.status.idle": "2022-02-28T21:26:01.603366Z",
          "shell.execute_reply": "2022-02-28T21:26:01.603930Z",
          "shell.execute_reply.started": "2022-02-28T21:24:58.265535Z"
        },
        "papermill": {
          "duration": 0.072501,
          "end_time": "2022-02-28T21:26:01.604160",
          "exception": false,
          "start_time": "2022-02-28T21:26:01.531659",
          "status": "completed"
        },
        "tags": [],
        "id": "01d8a88f",
        "outputId": "56845af4-3bc1-4ea2-aba3-08b9a0b65943"
      },
      "outputs": [
        {
          "name": "stdout",
          "output_type": "stream",
          "text": [
            "0.7783783783783784\n",
            "[[ 42  31]\n",
            " [ 10 102]]\n",
            "              precision    recall  f1-score   support\n",
            "\n",
            "           0       0.81      0.58      0.67        73\n",
            "           1       0.77      0.91      0.83       112\n",
            "\n",
            "    accuracy                           0.78       185\n",
            "   macro avg       0.79      0.74      0.75       185\n",
            "weighted avg       0.78      0.78      0.77       185\n",
            "\n"
          ]
        }
      ],
      "source": [
        "print(accuracy_score(y_test,y_pred))\n",
        "print(confusion_matrix(y_test,y_pred))\n",
        "print(classification_report(y_test,y_pred))"
      ]
    },
    {
      "cell_type": "markdown",
      "id": "45ea2171",
      "metadata": {
        "papermill": {
          "duration": 0.05518,
          "end_time": "2022-02-28T21:26:01.718358",
          "exception": false,
          "start_time": "2022-02-28T21:26:01.663178",
          "status": "completed"
        },
        "tags": [],
        "id": "45ea2171"
      },
      "source": [
        "From above, random forest is giving better results for this model. it has 77.84% accuracy."
      ]
    },
    {
      "cell_type": "code",
      "execution_count": null,
      "id": "915bfc00",
      "metadata": {
        "papermill": {
          "duration": 0.056753,
          "end_time": "2022-02-28T21:26:01.832020",
          "exception": false,
          "start_time": "2022-02-28T21:26:01.775267",
          "status": "completed"
        },
        "tags": [],
        "id": "915bfc00"
      },
      "outputs": [],
      "source": []
    }
  ],
  "metadata": {
    "kernelspec": {
      "display_name": "Python 3 (ipykernel)",
      "language": "python",
      "name": "python3"
    },
    "language_info": {
      "codemirror_mode": {
        "name": "ipython",
        "version": 3
      },
      "file_extension": ".py",
      "mimetype": "text/x-python",
      "name": "python",
      "nbconvert_exporter": "python",
      "pygments_lexer": "ipython3",
      "version": "3.9.16"
    },
    "papermill": {
      "default_parameters": {},
      "duration": 28.912312,
      "end_time": "2022-02-28T21:26:02.901577",
      "environment_variables": {},
      "exception": null,
      "input_path": "__notebook__.ipynb",
      "output_path": "__notebook__.ipynb",
      "parameters": {},
      "start_time": "2022-02-28T21:25:33.989265",
      "version": "2.3.3"
    },
    "colab": {
      "provenance": [],
      "include_colab_link": true
    }
  },
  "nbformat": 4,
  "nbformat_minor": 5
}